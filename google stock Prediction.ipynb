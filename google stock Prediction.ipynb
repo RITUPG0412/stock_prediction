{
  "nbformat": 4,
  "nbformat_minor": 0,
  "metadata": {
    "colab": {
      "provenance": []
    },
    "kernelspec": {
      "name": "python3",
      "display_name": "Python 3"
    },
    "language_info": {
      "name": "python"
    }
  },
  "cells": [
    {
      "cell_type": "code",
      "execution_count": null,
      "metadata": {
        "id": "XA9NiuP7e_kq"
      },
      "outputs": [],
      "source": [
        "import numpy as np\n",
        "import matplotlib.pyplot as plt\n",
        "import pandas as pd\n",
        "import datetime"
      ]
    },
    {
      "cell_type": "code",
      "source": [
        "dataset = pd.read_csv('Google_Stock_Price_Train.csv',index_col=\"Date\",parse_dates=True)"
      ],
      "metadata": {
        "id": "GVTWimtAfHgC"
      },
      "execution_count": null,
      "outputs": []
    },
    {
      "cell_type": "code",
      "source": [
        "dataset.head()"
      ],
      "metadata": {
        "colab": {
          "base_uri": "https://localhost:8080/",
          "height": 237
        },
        "id": "GHJd7nsOfHd6",
        "outputId": "97109f5d-960f-4328-c50d-ab0ab8b3bc70"
      },
      "execution_count": null,
      "outputs": [
        {
          "output_type": "execute_result",
          "data": {
            "text/plain": [
              "              Open    High     Low   Close      Volume\n",
              "Date                                                  \n",
              "2012-01-03  325.25  332.83  324.97  663.59   7,380,500\n",
              "2012-01-04  331.27  333.87  329.08  666.45   5,749,400\n",
              "2012-01-05  329.83  330.75  326.89  657.21   6,590,300\n",
              "2012-01-06  328.34  328.77  323.68  648.24   5,405,900\n",
              "2012-01-09  322.04  322.29  309.46  620.76  11,688,800"
            ],
            "text/html": [
              "\n",
              "  <div id=\"df-e3a58734-23a0-46bf-adc7-567eb0e4ab87\">\n",
              "    <div class=\"colab-df-container\">\n",
              "      <div>\n",
              "<style scoped>\n",
              "    .dataframe tbody tr th:only-of-type {\n",
              "        vertical-align: middle;\n",
              "    }\n",
              "\n",
              "    .dataframe tbody tr th {\n",
              "        vertical-align: top;\n",
              "    }\n",
              "\n",
              "    .dataframe thead th {\n",
              "        text-align: right;\n",
              "    }\n",
              "</style>\n",
              "<table border=\"1\" class=\"dataframe\">\n",
              "  <thead>\n",
              "    <tr style=\"text-align: right;\">\n",
              "      <th></th>\n",
              "      <th>Open</th>\n",
              "      <th>High</th>\n",
              "      <th>Low</th>\n",
              "      <th>Close</th>\n",
              "      <th>Volume</th>\n",
              "    </tr>\n",
              "    <tr>\n",
              "      <th>Date</th>\n",
              "      <th></th>\n",
              "      <th></th>\n",
              "      <th></th>\n",
              "      <th></th>\n",
              "      <th></th>\n",
              "    </tr>\n",
              "  </thead>\n",
              "  <tbody>\n",
              "    <tr>\n",
              "      <th>2012-01-03</th>\n",
              "      <td>325.25</td>\n",
              "      <td>332.83</td>\n",
              "      <td>324.97</td>\n",
              "      <td>663.59</td>\n",
              "      <td>7,380,500</td>\n",
              "    </tr>\n",
              "    <tr>\n",
              "      <th>2012-01-04</th>\n",
              "      <td>331.27</td>\n",
              "      <td>333.87</td>\n",
              "      <td>329.08</td>\n",
              "      <td>666.45</td>\n",
              "      <td>5,749,400</td>\n",
              "    </tr>\n",
              "    <tr>\n",
              "      <th>2012-01-05</th>\n",
              "      <td>329.83</td>\n",
              "      <td>330.75</td>\n",
              "      <td>326.89</td>\n",
              "      <td>657.21</td>\n",
              "      <td>6,590,300</td>\n",
              "    </tr>\n",
              "    <tr>\n",
              "      <th>2012-01-06</th>\n",
              "      <td>328.34</td>\n",
              "      <td>328.77</td>\n",
              "      <td>323.68</td>\n",
              "      <td>648.24</td>\n",
              "      <td>5,405,900</td>\n",
              "    </tr>\n",
              "    <tr>\n",
              "      <th>2012-01-09</th>\n",
              "      <td>322.04</td>\n",
              "      <td>322.29</td>\n",
              "      <td>309.46</td>\n",
              "      <td>620.76</td>\n",
              "      <td>11,688,800</td>\n",
              "    </tr>\n",
              "  </tbody>\n",
              "</table>\n",
              "</div>\n",
              "      <button class=\"colab-df-convert\" onclick=\"convertToInteractive('df-e3a58734-23a0-46bf-adc7-567eb0e4ab87')\"\n",
              "              title=\"Convert this dataframe to an interactive table.\"\n",
              "              style=\"display:none;\">\n",
              "        \n",
              "  <svg xmlns=\"http://www.w3.org/2000/svg\" height=\"24px\"viewBox=\"0 0 24 24\"\n",
              "       width=\"24px\">\n",
              "    <path d=\"M0 0h24v24H0V0z\" fill=\"none\"/>\n",
              "    <path d=\"M18.56 5.44l.94 2.06.94-2.06 2.06-.94-2.06-.94-.94-2.06-.94 2.06-2.06.94zm-11 1L8.5 8.5l.94-2.06 2.06-.94-2.06-.94L8.5 2.5l-.94 2.06-2.06.94zm10 10l.94 2.06.94-2.06 2.06-.94-2.06-.94-.94-2.06-.94 2.06-2.06.94z\"/><path d=\"M17.41 7.96l-1.37-1.37c-.4-.4-.92-.59-1.43-.59-.52 0-1.04.2-1.43.59L10.3 9.45l-7.72 7.72c-.78.78-.78 2.05 0 2.83L4 21.41c.39.39.9.59 1.41.59.51 0 1.02-.2 1.41-.59l7.78-7.78 2.81-2.81c.8-.78.8-2.07 0-2.86zM5.41 20L4 18.59l7.72-7.72 1.47 1.35L5.41 20z\"/>\n",
              "  </svg>\n",
              "      </button>\n",
              "      \n",
              "  <style>\n",
              "    .colab-df-container {\n",
              "      display:flex;\n",
              "      flex-wrap:wrap;\n",
              "      gap: 12px;\n",
              "    }\n",
              "\n",
              "    .colab-df-convert {\n",
              "      background-color: #E8F0FE;\n",
              "      border: none;\n",
              "      border-radius: 50%;\n",
              "      cursor: pointer;\n",
              "      display: none;\n",
              "      fill: #1967D2;\n",
              "      height: 32px;\n",
              "      padding: 0 0 0 0;\n",
              "      width: 32px;\n",
              "    }\n",
              "\n",
              "    .colab-df-convert:hover {\n",
              "      background-color: #E2EBFA;\n",
              "      box-shadow: 0px 1px 2px rgba(60, 64, 67, 0.3), 0px 1px 3px 1px rgba(60, 64, 67, 0.15);\n",
              "      fill: #174EA6;\n",
              "    }\n",
              "\n",
              "    [theme=dark] .colab-df-convert {\n",
              "      background-color: #3B4455;\n",
              "      fill: #D2E3FC;\n",
              "    }\n",
              "\n",
              "    [theme=dark] .colab-df-convert:hover {\n",
              "      background-color: #434B5C;\n",
              "      box-shadow: 0px 1px 3px 1px rgba(0, 0, 0, 0.15);\n",
              "      filter: drop-shadow(0px 1px 2px rgba(0, 0, 0, 0.3));\n",
              "      fill: #FFFFFF;\n",
              "    }\n",
              "  </style>\n",
              "\n",
              "      <script>\n",
              "        const buttonEl =\n",
              "          document.querySelector('#df-e3a58734-23a0-46bf-adc7-567eb0e4ab87 button.colab-df-convert');\n",
              "        buttonEl.style.display =\n",
              "          google.colab.kernel.accessAllowed ? 'block' : 'none';\n",
              "\n",
              "        async function convertToInteractive(key) {\n",
              "          const element = document.querySelector('#df-e3a58734-23a0-46bf-adc7-567eb0e4ab87');\n",
              "          const dataTable =\n",
              "            await google.colab.kernel.invokeFunction('convertToInteractive',\n",
              "                                                     [key], {});\n",
              "          if (!dataTable) return;\n",
              "\n",
              "          const docLinkHtml = 'Like what you see? Visit the ' +\n",
              "            '<a target=\"_blank\" href=https://colab.research.google.com/notebooks/data_table.ipynb>data table notebook</a>'\n",
              "            + ' to learn more about interactive tables.';\n",
              "          element.innerHTML = '';\n",
              "          dataTable['output_type'] = 'display_data';\n",
              "          await google.colab.output.renderOutput(dataTable, element);\n",
              "          const docLink = document.createElement('div');\n",
              "          docLink.innerHTML = docLinkHtml;\n",
              "          element.appendChild(docLink);\n",
              "        }\n",
              "      </script>\n",
              "    </div>\n",
              "  </div>\n",
              "  "
            ]
          },
          "metadata": {},
          "execution_count": 85
        }
      ]
    },
    {
      "cell_type": "code",
      "source": [
        "dataset.isna().any()"
      ],
      "metadata": {
        "colab": {
          "base_uri": "https://localhost:8080/"
        },
        "id": "jffK_yFdfHbY",
        "outputId": "b4a03b95-fdf7-414f-cfaf-c1c333b3ea72"
      },
      "execution_count": null,
      "outputs": [
        {
          "output_type": "execute_result",
          "data": {
            "text/plain": [
              "Open      False\n",
              "High      False\n",
              "Low       False\n",
              "Close     False\n",
              "Volume    False\n",
              "dtype: bool"
            ]
          },
          "metadata": {},
          "execution_count": 86
        }
      ]
    },
    {
      "cell_type": "code",
      "source": [
        "dataset.info()"
      ],
      "metadata": {
        "colab": {
          "base_uri": "https://localhost:8080/"
        },
        "id": "BbaOjLv2fHYV",
        "outputId": "11d07d51-7936-4580-d8cf-bb52ef7821d1"
      },
      "execution_count": null,
      "outputs": [
        {
          "output_type": "stream",
          "name": "stdout",
          "text": [
            "<class 'pandas.core.frame.DataFrame'>\n",
            "DatetimeIndex: 1258 entries, 2012-01-03 to 2016-12-30\n",
            "Data columns (total 5 columns):\n",
            " #   Column  Non-Null Count  Dtype  \n",
            "---  ------  --------------  -----  \n",
            " 0   Open    1258 non-null   float64\n",
            " 1   High    1258 non-null   float64\n",
            " 2   Low     1258 non-null   float64\n",
            " 3   Close   1258 non-null   object \n",
            " 4   Volume  1258 non-null   object \n",
            "dtypes: float64(3), object(2)\n",
            "memory usage: 59.0+ KB\n"
          ]
        }
      ]
    },
    {
      "cell_type": "code",
      "source": [
        "dataset['Open'].plot(figsize=(16,8))"
      ],
      "metadata": {
        "colab": {
          "base_uri": "https://localhost:8080/",
          "height": 446
        },
        "id": "lkVZzZe_fHVr",
        "outputId": "305dcac2-0b6e-4255-fc41-f3bcd3a2c6ae"
      },
      "execution_count": null,
      "outputs": [
        {
          "output_type": "execute_result",
          "data": {
            "text/plain": [
              "<matplotlib.axes._subplots.AxesSubplot at 0x7fe996236d10>"
            ]
          },
          "metadata": {},
          "execution_count": 88
        },
        {
          "output_type": "display_data",
          "data": {
            "text/plain": [
              "<Figure size 1152x576 with 1 Axes>"
            ],
            "image/png": "[encoded data removed]"
          },
          "metadata": {
            "needs_background": "light"
          }
        }
      ]
    },
    {
      "cell_type": "code",
      "source": [
        "dataset[\"Volume\"]=dataset[\"Volume\"].str.replace(',','').astype(float)"
      ],
      "metadata": {
        "id": "qcDfcSm8fHPl"
      },
      "execution_count": null,
      "outputs": []
    },
    {
      "cell_type": "code",
      "source": [
        "#convert column \"a\" of a DataFrame\n",
        "dataset[\"Close\"]=dataset[\"Close\"].str.replace(',','').astype(float)"
      ],
      "metadata": {
        "id": "YOoEc8KZW31o"
      },
      "execution_count": null,
      "outputs": []
    },
    {
      "cell_type": "code",
      "source": [
        "#7 day rolling mean\n",
        "dataset.rolling(7).mean().head(20)"
      ],
      "metadata": {
        "colab": {
          "base_uri": "https://localhost:8080/",
          "height": 708
        },
        "id": "OM7jo49CfHNC",
        "outputId": "e68b33e0-be9a-46a9-d6f9-e7c6f2e36f17"
      },
      "execution_count": null,
      "outputs": [
        {
          "output_type": "execute_result",
          "data": {
            "text/plain": [
              "                  Open        High         Low        Volume\n",
              "Date                                                        \n",
              "2012-01-03         NaN         NaN         NaN           NaN\n",
              "2012-01-04         NaN         NaN         NaN           NaN\n",
              "2012-01-05         NaN         NaN         NaN           NaN\n",
              "2012-01-06         NaN         NaN         NaN           NaN\n",
              "2012-01-09         NaN         NaN         NaN           NaN\n",
              "2012-01-10         NaN         NaN         NaN           NaN\n",
              "2012-01-11  323.002857  325.392857  318.682857  7.208100e+06\n",
              "2012-01-12  321.457143  322.882857  316.841429  6.691514e+06\n",
              "2012-01-13  318.698571  319.801429  314.025714  6.531857e+06\n",
              "2012-01-17  316.552857  317.524286  311.851429  6.137929e+06\n",
              "2012-01-18  314.238571  315.674286  309.882857  6.157657e+06\n",
              "2012-01-19  313.847143  315.247143  310.610000  6.296086e+06\n",
              "2012-01-20  311.055714  312.201429  308.104286  8.068629e+06\n",
              "2012-01-23  308.387143  309.302857  305.402857  8.359129e+06\n",
              "2012-01-24  305.192857  306.085714  301.951429  8.697700e+06\n",
              "2012-01-25  301.724286  302.652857  298.060000  9.466400e+06\n",
              "2012-01-26  297.454286  298.561429  293.710000  9.844071e+06\n",
              "2012-01-27  293.480000  294.741429  289.952857  1.008950e+07\n",
              "2012-01-30  289.001429  290.401429  285.821429  8.949586e+06\n",
              "2012-01-31  288.465714  289.902857  285.355714  6.530857e+06"
            ],
            "text/html": [
              "\n",
              "  <div id=\"df-cfe325f6-c8df-479d-b1db-029022c0dd26\">\n",
              "    <div class=\"colab-df-container\">\n",
              "      <div>\n",
              "<style scoped>\n",
              "    .dataframe tbody tr th:only-of-type {\n",
              "        vertical-align: middle;\n",
              "    }\n",
              "\n",
              "    .dataframe tbody tr th {\n",
              "        vertical-align: top;\n",
              "    }\n",
              "\n",
              "    .dataframe thead th {\n",
              "        text-align: right;\n",
              "    }\n",
              "</style>\n",
              "<table border=\"1\" class=\"dataframe\">\n",
              "  <thead>\n",
              "    <tr style=\"text-align: right;\">\n",
              "      <th></th>\n",
              "      <th>Open</th>\n",
              "      <th>High</th>\n",
              "      <th>Low</th>\n",
              "      <th>Volume</th>\n",
              "    </tr>\n",
              "    <tr>\n",
              "      <th>Date</th>\n",
              "      <th></th>\n",
              "      <th></th>\n",
              "      <th></th>\n",
              "      <th></th>\n",
              "    </tr>\n",
              "  </thead>\n",
              "  <tbody>\n",
              "    <tr>\n",
              "      <th>2012-01-03</th>\n",
              "      <td>NaN</td>\n",
              "      <td>NaN</td>\n",
              "      <td>NaN</td>\n",
              "      <td>NaN</td>\n",
              "    </tr>\n",
              "    <tr>\n",
              "      <th>2012-01-04</th>\n",
              "      <td>NaN</td>\n",
              "      <td>NaN</td>\n",
              "      <td>NaN</td>\n",
              "      <td>NaN</td>\n",
              "    </tr>\n",
              "    <tr>\n",
              "      <th>2012-01-05</th>\n",
              "      <td>NaN</td>\n",
              "      <td>NaN</td>\n",
              "      <td>NaN</td>\n",
              "      <td>NaN</td>\n",
              "    </tr>\n",
              "    <tr>\n",
              "      <th>2012-01-06</th>\n",
              "      <td>NaN</td>\n",
              "      <td>NaN</td>\n",
              "      <td>NaN</td>\n",
              "      <td>NaN</td>\n",
              "    </tr>\n",
              "    <tr>\n",
              "      <th>2012-01-09</th>\n",
              "      <td>NaN</td>\n",
              "      <td>NaN</td>\n",
              "      <td>NaN</td>\n",
              "      <td>NaN</td>\n",
              "    </tr>\n",
              "    <tr>\n",
              "      <th>2012-01-10</th>\n",
              "      <td>NaN</td>\n",
              "      <td>NaN</td>\n",
              "      <td>NaN</td>\n",
              "      <td>NaN</td>\n",
              "    </tr>\n",
              "    <tr>\n",
              "      <th>2012-01-11</th>\n",
              "      <td>323.002857</td>\n",
              "      <td>325.392857</td>\n",
              "      <td>318.682857</td>\n",
              "      <td>7.208100e+06</td>\n",
              "    </tr>\n",
              "    <tr>\n",
              "      <th>2012-01-12</th>\n",
              "      <td>321.457143</td>\n",
              "      <td>322.882857</td>\n",
              "      <td>316.841429</td>\n",
              "      <td>6.691514e+06</td>\n",
              "    </tr>\n",
              "    <tr>\n",
              "      <th>2012-01-13</th>\n",
              "      <td>318.698571</td>\n",
              "      <td>319.801429</td>\n",
              "      <td>314.025714</td>\n",
              "      <td>6.531857e+06</td>\n",
              "    </tr>\n",
              "    <tr>\n",
              "      <th>2012-01-17</th>\n",
              "      <td>316.552857</td>\n",
              "      <td>317.524286</td>\n",
              "      <td>311.851429</td>\n",
              "      <td>6.137929e+06</td>\n",
              "    </tr>\n",
              "    <tr>\n",
              "      <th>2012-01-18</th>\n",
              "      <td>314.238571</td>\n",
              "      <td>315.674286</td>\n",
              "      <td>309.882857</td>\n",
              "      <td>6.157657e+06</td>\n",
              "    </tr>\n",
              "    <tr>\n",
              "      <th>2012-01-19</th>\n",
              "      <td>313.847143</td>\n",
              "      <td>315.247143</td>\n",
              "      <td>310.610000</td>\n",
              "      <td>6.296086e+06</td>\n",
              "    </tr>\n",
              "    <tr>\n",
              "      <th>2012-01-20</th>\n",
              "      <td>311.055714</td>\n",
              "      <td>312.201429</td>\n",
              "      <td>308.104286</td>\n",
              "      <td>8.068629e+06</td>\n",
              "    </tr>\n",
              "    <tr>\n",
              "      <th>2012-01-23</th>\n",
              "      <td>308.387143</td>\n",
              "      <td>309.302857</td>\n",
              "      <td>305.402857</td>\n",
              "      <td>8.359129e+06</td>\n",
              "    </tr>\n",
              "    <tr>\n",
              "      <th>2012-01-24</th>\n",
              "      <td>305.192857</td>\n",
              "      <td>306.085714</td>\n",
              "      <td>301.951429</td>\n",
              "      <td>8.697700e+06</td>\n",
              "    </tr>\n",
              "    <tr>\n",
              "      <th>2012-01-25</th>\n",
              "      <td>301.724286</td>\n",
              "      <td>302.652857</td>\n",
              "      <td>298.060000</td>\n",
              "      <td>9.466400e+06</td>\n",
              "    </tr>\n",
              "    <tr>\n",
              "      <th>2012-01-26</th>\n",
              "      <td>297.454286</td>\n",
              "      <td>298.561429</td>\n",
              "      <td>293.710000</td>\n",
              "      <td>9.844071e+06</td>\n",
              "    </tr>\n",
              "    <tr>\n",
              "      <th>2012-01-27</th>\n",
              "      <td>293.480000</td>\n",
              "      <td>294.741429</td>\n",
              "      <td>289.952857</td>\n",
              "      <td>1.008950e+07</td>\n",
              "    </tr>\n",
              "    <tr>\n",
              "      <th>2012-01-30</th>\n",
              "      <td>289.001429</td>\n",
              "      <td>290.401429</td>\n",
              "      <td>285.821429</td>\n",
              "      <td>8.949586e+06</td>\n",
              "    </tr>\n",
              "    <tr>\n",
              "      <th>2012-01-31</th>\n",
              "      <td>288.465714</td>\n",
              "      <td>289.902857</td>\n",
              "      <td>285.355714</td>\n",
              "      <td>6.530857e+06</td>\n",
              "    </tr>\n",
              "  </tbody>\n",
              "</table>\n",
              "</div>\n",
              "      <button class=\"colab-df-convert\" onclick=\"convertToInteractive('df-cfe325f6-c8df-479d-b1db-029022c0dd26')\"\n",
              "              title=\"Convert this dataframe to an interactive table.\"\n",
              "              style=\"display:none;\">\n",
              "        \n",
              "  <svg xmlns=\"http://www.w3.org/2000/svg\" height=\"24px\"viewBox=\"0 0 24 24\"\n",
              "       width=\"24px\">\n",
              "    <path d=\"M0 0h24v24H0V0z\" fill=\"none\"/>\n",
              "    <path d=\"M18.56 5.44l.94 2.06.94-2.06 2.06-.94-2.06-.94-.94-2.06-.94 2.06-2.06.94zm-11 1L8.5 8.5l.94-2.06 2.06-.94-2.06-.94L8.5 2.5l-.94 2.06-2.06.94zm10 10l.94 2.06.94-2.06 2.06-.94-2.06-.94-.94-2.06-.94 2.06-2.06.94z\"/><path d=\"M17.41 7.96l-1.37-1.37c-.4-.4-.92-.59-1.43-.59-.52 0-1.04.2-1.43.59L10.3 9.45l-7.72 7.72c-.78.78-.78 2.05 0 2.83L4 21.41c.39.39.9.59 1.41.59.51 0 1.02-.2 1.41-.59l7.78-7.78 2.81-2.81c.8-.78.8-2.07 0-2.86zM5.41 20L4 18.59l7.72-7.72 1.47 1.35L5.41 20z\"/>\n",
              "  </svg>\n",
              "      </button>\n",
              "      \n",
              "  <style>\n",
              "    .colab-df-container {\n",
              "      display:flex;\n",
              "      flex-wrap:wrap;\n",
              "      gap: 12px;\n",
              "    }\n",
              "\n",
              "    .colab-df-convert {\n",
              "      background-color: #E8F0FE;\n",
              "      border: none;\n",
              "      border-radius: 50%;\n",
              "      cursor: pointer;\n",
              "      display: none;\n",
              "      fill: #1967D2;\n",
              "      height: 32px;\n",
              "      padding: 0 0 0 0;\n",
              "      width: 32px;\n",
              "    }\n",
              "\n",
              "    .colab-df-convert:hover {\n",
              "      background-color: #E2EBFA;\n",
              "      box-shadow: 0px 1px 2px rgba(60, 64, 67, 0.3), 0px 1px 3px 1px rgba(60, 64, 67, 0.15);\n",
              "      fill: #174EA6;\n",
              "    }\n",
              "\n",
              "    [theme=dark] .colab-df-convert {\n",
              "      background-color: #3B4455;\n",
              "      fill: #D2E3FC;\n",
              "    }\n",
              "\n",
              "    [theme=dark] .colab-df-convert:hover {\n",
              "      background-color: #434B5C;\n",
              "      box-shadow: 0px 1px 3px 1px rgba(0, 0, 0, 0.15);\n",
              "      filter: drop-shadow(0px 1px 2px rgba(0, 0, 0, 0.3));\n",
              "      fill: #FFFFFF;\n",
              "    }\n",
              "  </style>\n",
              "\n",
              "      <script>\n",
              "        const buttonEl =\n",
              "          document.querySelector('#df-cfe325f6-c8df-479d-b1db-029022c0dd26 button.colab-df-convert');\n",
              "        buttonEl.style.display =\n",
              "          google.colab.kernel.accessAllowed ? 'block' : 'none';\n",
              "\n",
              "        async function convertToInteractive(key) {\n",
              "          const element = document.querySelector('#df-cfe325f6-c8df-479d-b1db-029022c0dd26');\n",
              "          const dataTable =\n",
              "            await google.colab.kernel.invokeFunction('convertToInteractive',\n",
              "                                                     [key], {});\n",
              "          if (!dataTable) return;\n",
              "\n",
              "          const docLinkHtml = 'Like what you see? Visit the ' +\n",
              "            '<a target=\"_blank\" href=https://colab.research.google.com/notebooks/data_table.ipynb>data table notebook</a>'\n",
              "            + ' to learn more about interactive tables.';\n",
              "          element.innerHTML = '';\n",
              "          dataTable['output_type'] = 'display_data';\n",
              "          await google.colab.output.renderOutput(dataTable, element);\n",
              "          const docLink = document.createElement('div');\n",
              "          docLink.innerHTML = docLinkHtml;\n",
              "          element.appendChild(docLink);\n",
              "        }\n",
              "      </script>\n",
              "    </div>\n",
              "  </div>\n",
              "  "
            ]
          },
          "metadata": {},
          "execution_count": 92
        }
      ]
    },
    {
      "cell_type": "code",
      "source": [
        "dataset['Open'].plot(figsize=(16,6))\n",
        "dataset.rolling(window=30).mean()['Open'].plot()"
      ],
      "metadata": {
        "colab": {
          "base_uri": "https://localhost:8080/",
          "height": 356
        },
        "id": "iDJ7knI0fHKw",
        "outputId": "1c90aff3-dfda-4464-c398-a141a6c3e112"
      },
      "execution_count": null,
      "outputs": [
        {
          "output_type": "execute_result",
          "data": {
            "text/plain": [
              "<matplotlib.axes._subplots.AxesSubplot at 0x7fe995d4ded0>"
            ]
          },
          "metadata": {},
          "execution_count": 98
        },
        {
          "output_type": "display_data",
          "data": {
            "text/plain": [
              "<Figure size 1152x432 with 1 Axes>"
            ],
            "image/png": "[encoded data removed]"
          },
          "metadata": {
            "needs_background": "light"
          }
        }
      ]
    },
    {
      "cell_type": "code",
      "source": [
        "dataset['Close: 30 Day Mean']=dataset['Close'].rolling(window=30).mean()\n",
        "dataset[['Close','Close: 30 Day Mean']].plot(figsize=(16,6))"
      ],
      "metadata": {
        "colab": {
          "base_uri": "https://localhost:8080/",
          "height": 572
        },
        "id": "AA2lXpK5i011",
        "outputId": "07675481-c300-46e2-dd0d-7c2718612237"
      },
      "execution_count": null,
      "outputs": [
        {
          "output_type": "error",
          "ename": "DataError",
          "evalue": "ignored",
          "traceback": [
            "\u001b[0;31m---------------------------------------------------------------------------\u001b[0m",
            "\u001b[0;31mValueError\u001b[0m                                Traceback (most recent call last)",
            "\u001b[0;32m/usr/local/lib/python3.7/dist-packages/pandas/core/window/rolling.py\u001b[0m in \u001b[0;36m_prep_values\u001b[0;34m(self, values)\u001b[0m\n\u001b[1;32m    322\u001b[0m             \u001b[0;32mtry\u001b[0m\u001b[0;34m:\u001b[0m\u001b[0;34m\u001b[0m\u001b[0;34m\u001b[0m\u001b[0m\n\u001b[0;32m--> 323\u001b[0;31m                 \u001b[0mvalues\u001b[0m \u001b[0;34m=\u001b[0m \u001b[0mensure_float64\u001b[0m\u001b[0;34m(\u001b[0m\u001b[0mvalues\u001b[0m\u001b[0;34m)\u001b[0m\u001b[0;34m\u001b[0m\u001b[0;34m\u001b[0m\u001b[0m\n\u001b[0m\u001b[1;32m    324\u001b[0m             \u001b[0;32mexcept\u001b[0m \u001b[0;34m(\u001b[0m\u001b[0mValueError\u001b[0m\u001b[0;34m,\u001b[0m \u001b[0mTypeError\u001b[0m\u001b[0;34m)\u001b[0m \u001b[0;32mas\u001b[0m \u001b[0merr\u001b[0m\u001b[0;34m:\u001b[0m\u001b[0;34m\u001b[0m\u001b[0;34m\u001b[0m\u001b[0m\n",
            "\u001b[0;32mpandas/_libs/algos_common_helper.pxi\u001b[0m in \u001b[0;36mpandas._libs.algos.ensure_float64\u001b[0;34m()\u001b[0m\n",
            "\u001b[0;31mValueError\u001b[0m: could not convert string to float: '1,008.64'",
            "\nThe above exception was the direct cause of the following exception:\n",
            "\u001b[0;31mTypeError\u001b[0m                                 Traceback (most recent call last)",
            "\u001b[0;32m/usr/local/lib/python3.7/dist-packages/pandas/core/window/rolling.py\u001b[0m in \u001b[0;36m_apply_series\u001b[0;34m(self, homogeneous_func, name)\u001b[0m\n\u001b[1;32m    403\u001b[0m         \u001b[0;32mtry\u001b[0m\u001b[0;34m:\u001b[0m\u001b[0;34m\u001b[0m\u001b[0;34m\u001b[0m\u001b[0m\n\u001b[0;32m--> 404\u001b[0;31m             \u001b[0mvalues\u001b[0m \u001b[0;34m=\u001b[0m \u001b[0mself\u001b[0m\u001b[0;34m.\u001b[0m\u001b[0m_prep_values\u001b[0m\u001b[0;34m(\u001b[0m\u001b[0mobj\u001b[0m\u001b[0;34m.\u001b[0m\u001b[0m_values\u001b[0m\u001b[0;34m)\u001b[0m\u001b[0;34m\u001b[0m\u001b[0;34m\u001b[0m\u001b[0m\n\u001b[0m\u001b[1;32m    405\u001b[0m         \u001b[0;32mexcept\u001b[0m \u001b[0;34m(\u001b[0m\u001b[0mTypeError\u001b[0m\u001b[0;34m,\u001b[0m \u001b[0mNotImplementedError\u001b[0m\u001b[0;34m)\u001b[0m \u001b[0;32mas\u001b[0m \u001b[0merr\u001b[0m\u001b[0;34m:\u001b[0m\u001b[0;34m\u001b[0m\u001b[0;34m\u001b[0m\u001b[0m\n",
            "\u001b[0;32m/usr/local/lib/python3.7/dist-packages/pandas/core/window/rolling.py\u001b[0m in \u001b[0;36m_prep_values\u001b[0;34m(self, values)\u001b[0m\n\u001b[1;32m    324\u001b[0m             \u001b[0;32mexcept\u001b[0m \u001b[0;34m(\u001b[0m\u001b[0mValueError\u001b[0m\u001b[0;34m,\u001b[0m \u001b[0mTypeError\u001b[0m\u001b[0;34m)\u001b[0m \u001b[0;32mas\u001b[0m \u001b[0merr\u001b[0m\u001b[0;34m:\u001b[0m\u001b[0;34m\u001b[0m\u001b[0;34m\u001b[0m\u001b[0m\n\u001b[0;32m--> 325\u001b[0;31m                 \u001b[0;32mraise\u001b[0m \u001b[0mTypeError\u001b[0m\u001b[0;34m(\u001b[0m\u001b[0;34mf\"cannot handle this type -> {values.dtype}\"\u001b[0m\u001b[0;34m)\u001b[0m \u001b[0;32mfrom\u001b[0m \u001b[0merr\u001b[0m\u001b[0;34m\u001b[0m\u001b[0;34m\u001b[0m\u001b[0m\n\u001b[0m\u001b[1;32m    326\u001b[0m \u001b[0;34m\u001b[0m\u001b[0m\n",
            "\u001b[0;31mTypeError\u001b[0m: cannot handle this type -> object",
            "\nThe above exception was the direct cause of the following exception:\n",
            "\u001b[0;31mDataError\u001b[0m                                 Traceback (most recent call last)",
            "\u001b[0;32m<ipython-input-99-3c5601c05003>\u001b[0m in \u001b[0;36m<module>\u001b[0;34m\u001b[0m\n\u001b[0;32m----> 1\u001b[0;31m \u001b[0mdataset\u001b[0m\u001b[0;34m[\u001b[0m\u001b[0;34m'Close: 30 Day Mean'\u001b[0m\u001b[0;34m]\u001b[0m\u001b[0;34m=\u001b[0m\u001b[0mdataset\u001b[0m\u001b[0;34m[\u001b[0m\u001b[0;34m'Close'\u001b[0m\u001b[0;34m]\u001b[0m\u001b[0;34m.\u001b[0m\u001b[0mrolling\u001b[0m\u001b[0;34m(\u001b[0m\u001b[0mwindow\u001b[0m\u001b[0;34m=\u001b[0m\u001b[0;36m30\u001b[0m\u001b[0;34m)\u001b[0m\u001b[0;34m.\u001b[0m\u001b[0mmean\u001b[0m\u001b[0;34m(\u001b[0m\u001b[0;34m)\u001b[0m\u001b[0;34m\u001b[0m\u001b[0;34m\u001b[0m\u001b[0m\n\u001b[0m\u001b[1;32m      2\u001b[0m \u001b[0mdataset\u001b[0m\u001b[0;34m[\u001b[0m\u001b[0;34m[\u001b[0m\u001b[0;34m'Close'\u001b[0m\u001b[0;34m,\u001b[0m\u001b[0;34m'Close: 30 Day Mean'\u001b[0m\u001b[0;34m]\u001b[0m\u001b[0;34m]\u001b[0m\u001b[0;34m.\u001b[0m\u001b[0mplot\u001b[0m\u001b[0;34m(\u001b[0m\u001b[0mfigsize\u001b[0m\u001b[0;34m=\u001b[0m\u001b[0;34m(\u001b[0m\u001b[0;36m16\u001b[0m\u001b[0;34m,\u001b[0m\u001b[0;36m6\u001b[0m\u001b[0;34m)\u001b[0m\u001b[0;34m)\u001b[0m\u001b[0;34m\u001b[0m\u001b[0;34m\u001b[0m\u001b[0m\n",
            "\u001b[0;32m/usr/local/lib/python3.7/dist-packages/pandas/core/window/rolling.py\u001b[0m in \u001b[0;36mmean\u001b[0;34m(self, engine, engine_kwargs, *args, **kwargs)\u001b[0m\n\u001b[1;32m   1855\u001b[0m     ):\n\u001b[1;32m   1856\u001b[0m         \u001b[0mnv\u001b[0m\u001b[0;34m.\u001b[0m\u001b[0mvalidate_rolling_func\u001b[0m\u001b[0;34m(\u001b[0m\u001b[0;34m\"mean\"\u001b[0m\u001b[0;34m,\u001b[0m \u001b[0margs\u001b[0m\u001b[0;34m,\u001b[0m \u001b[0mkwargs\u001b[0m\u001b[0;34m)\u001b[0m\u001b[0;34m\u001b[0m\u001b[0;34m\u001b[0m\u001b[0m\n\u001b[0;32m-> 1857\u001b[0;31m         \u001b[0;32mreturn\u001b[0m \u001b[0msuper\u001b[0m\u001b[0;34m(\u001b[0m\u001b[0;34m)\u001b[0m\u001b[0;34m.\u001b[0m\u001b[0mmean\u001b[0m\u001b[0;34m(\u001b[0m\u001b[0;34m*\u001b[0m\u001b[0margs\u001b[0m\u001b[0;34m,\u001b[0m \u001b[0mengine\u001b[0m\u001b[0;34m=\u001b[0m\u001b[0mengine\u001b[0m\u001b[0;34m,\u001b[0m \u001b[0mengine_kwargs\u001b[0m\u001b[0;34m=\u001b[0m\u001b[0mengine_kwargs\u001b[0m\u001b[0;34m,\u001b[0m \u001b[0;34m**\u001b[0m\u001b[0mkwargs\u001b[0m\u001b[0;34m)\u001b[0m\u001b[0;34m\u001b[0m\u001b[0;34m\u001b[0m\u001b[0m\n\u001b[0m\u001b[1;32m   1858\u001b[0m \u001b[0;34m\u001b[0m\u001b[0m\n\u001b[1;32m   1859\u001b[0m     @doc(\n",
            "\u001b[0;32m/usr/local/lib/python3.7/dist-packages/pandas/core/window/rolling.py\u001b[0m in \u001b[0;36mmean\u001b[0;34m(self, engine, engine_kwargs, *args, **kwargs)\u001b[0m\n\u001b[1;32m   1309\u001b[0m             )\n\u001b[1;32m   1310\u001b[0m         \u001b[0mwindow_func\u001b[0m \u001b[0;34m=\u001b[0m \u001b[0mwindow_aggregations\u001b[0m\u001b[0;34m.\u001b[0m\u001b[0mroll_mean\u001b[0m\u001b[0;34m\u001b[0m\u001b[0;34m\u001b[0m\u001b[0m\n\u001b[0;32m-> 1311\u001b[0;31m         \u001b[0;32mreturn\u001b[0m \u001b[0mself\u001b[0m\u001b[0;34m.\u001b[0m\u001b[0m_apply\u001b[0m\u001b[0;34m(\u001b[0m\u001b[0mwindow_func\u001b[0m\u001b[0;34m,\u001b[0m \u001b[0mname\u001b[0m\u001b[0;34m=\u001b[0m\u001b[0;34m\"mean\"\u001b[0m\u001b[0;34m,\u001b[0m \u001b[0;34m**\u001b[0m\u001b[0mkwargs\u001b[0m\u001b[0;34m)\u001b[0m\u001b[0;34m\u001b[0m\u001b[0;34m\u001b[0m\u001b[0m\n\u001b[0m\u001b[1;32m   1312\u001b[0m \u001b[0;34m\u001b[0m\u001b[0m\n\u001b[1;32m   1313\u001b[0m     def median(\n",
            "\u001b[0;32m/usr/local/lib/python3.7/dist-packages/pandas/core/window/rolling.py\u001b[0m in \u001b[0;36m_apply\u001b[0;34m(self, func, name, numba_cache_key, **kwargs)\u001b[0m\n\u001b[1;32m    543\u001b[0m \u001b[0;34m\u001b[0m\u001b[0m\n\u001b[1;32m    544\u001b[0m         \u001b[0;32mif\u001b[0m \u001b[0mself\u001b[0m\u001b[0;34m.\u001b[0m\u001b[0mmethod\u001b[0m \u001b[0;34m==\u001b[0m \u001b[0;34m\"single\"\u001b[0m\u001b[0;34m:\u001b[0m\u001b[0;34m\u001b[0m\u001b[0;34m\u001b[0m\u001b[0m\n\u001b[0;32m--> 545\u001b[0;31m             \u001b[0;32mreturn\u001b[0m \u001b[0mself\u001b[0m\u001b[0;34m.\u001b[0m\u001b[0m_apply_blockwise\u001b[0m\u001b[0;34m(\u001b[0m\u001b[0mhomogeneous_func\u001b[0m\u001b[0;34m,\u001b[0m \u001b[0mname\u001b[0m\u001b[0;34m)\u001b[0m\u001b[0;34m\u001b[0m\u001b[0;34m\u001b[0m\u001b[0m\n\u001b[0m\u001b[1;32m    546\u001b[0m         \u001b[0;32melse\u001b[0m\u001b[0;34m:\u001b[0m\u001b[0;34m\u001b[0m\u001b[0;34m\u001b[0m\u001b[0m\n\u001b[1;32m    547\u001b[0m             \u001b[0;32mreturn\u001b[0m \u001b[0mself\u001b[0m\u001b[0;34m.\u001b[0m\u001b[0m_apply_tablewise\u001b[0m\u001b[0;34m(\u001b[0m\u001b[0mhomogeneous_func\u001b[0m\u001b[0;34m,\u001b[0m \u001b[0mname\u001b[0m\u001b[0;34m)\u001b[0m\u001b[0;34m\u001b[0m\u001b[0;34m\u001b[0m\u001b[0m\n",
            "\u001b[0;32m/usr/local/lib/python3.7/dist-packages/pandas/core/window/rolling.py\u001b[0m in \u001b[0;36m_apply_blockwise\u001b[0;34m(self, homogeneous_func, name)\u001b[0m\n\u001b[1;32m    417\u001b[0m         \"\"\"\n\u001b[1;32m    418\u001b[0m         \u001b[0;32mif\u001b[0m \u001b[0mself\u001b[0m\u001b[0;34m.\u001b[0m\u001b[0m_selected_obj\u001b[0m\u001b[0;34m.\u001b[0m\u001b[0mndim\u001b[0m \u001b[0;34m==\u001b[0m \u001b[0;36m1\u001b[0m\u001b[0;34m:\u001b[0m\u001b[0;34m\u001b[0m\u001b[0;34m\u001b[0m\u001b[0m\n\u001b[0;32m--> 419\u001b[0;31m             \u001b[0;32mreturn\u001b[0m \u001b[0mself\u001b[0m\u001b[0;34m.\u001b[0m\u001b[0m_apply_series\u001b[0m\u001b[0;34m(\u001b[0m\u001b[0mhomogeneous_func\u001b[0m\u001b[0;34m,\u001b[0m \u001b[0mname\u001b[0m\u001b[0;34m)\u001b[0m\u001b[0;34m\u001b[0m\u001b[0;34m\u001b[0m\u001b[0m\n\u001b[0m\u001b[1;32m    420\u001b[0m \u001b[0;34m\u001b[0m\u001b[0m\n\u001b[1;32m    421\u001b[0m         \u001b[0mobj\u001b[0m \u001b[0;34m=\u001b[0m \u001b[0mself\u001b[0m\u001b[0;34m.\u001b[0m\u001b[0m_create_data\u001b[0m\u001b[0;34m(\u001b[0m\u001b[0mself\u001b[0m\u001b[0;34m.\u001b[0m\u001b[0m_selected_obj\u001b[0m\u001b[0;34m)\u001b[0m\u001b[0;34m\u001b[0m\u001b[0;34m\u001b[0m\u001b[0m\n",
            "\u001b[0;32m/usr/local/lib/python3.7/dist-packages/pandas/core/window/rolling.py\u001b[0m in \u001b[0;36m_apply_series\u001b[0;34m(self, homogeneous_func, name)\u001b[0m\n\u001b[1;32m    404\u001b[0m             \u001b[0mvalues\u001b[0m \u001b[0;34m=\u001b[0m \u001b[0mself\u001b[0m\u001b[0;34m.\u001b[0m\u001b[0m_prep_values\u001b[0m\u001b[0;34m(\u001b[0m\u001b[0mobj\u001b[0m\u001b[0;34m.\u001b[0m\u001b[0m_values\u001b[0m\u001b[0;34m)\u001b[0m\u001b[0;34m\u001b[0m\u001b[0;34m\u001b[0m\u001b[0m\n\u001b[1;32m    405\u001b[0m         \u001b[0;32mexcept\u001b[0m \u001b[0;34m(\u001b[0m\u001b[0mTypeError\u001b[0m\u001b[0;34m,\u001b[0m \u001b[0mNotImplementedError\u001b[0m\u001b[0;34m)\u001b[0m \u001b[0;32mas\u001b[0m \u001b[0merr\u001b[0m\u001b[0;34m:\u001b[0m\u001b[0;34m\u001b[0m\u001b[0;34m\u001b[0m\u001b[0m\n\u001b[0;32m--> 406\u001b[0;31m             \u001b[0;32mraise\u001b[0m \u001b[0mDataError\u001b[0m\u001b[0;34m(\u001b[0m\u001b[0;34m\"No numeric types to aggregate\"\u001b[0m\u001b[0;34m)\u001b[0m \u001b[0;32mfrom\u001b[0m \u001b[0merr\u001b[0m\u001b[0;34m\u001b[0m\u001b[0;34m\u001b[0m\u001b[0m\n\u001b[0m\u001b[1;32m    407\u001b[0m \u001b[0;34m\u001b[0m\u001b[0m\n\u001b[1;32m    408\u001b[0m         \u001b[0mresult\u001b[0m \u001b[0;34m=\u001b[0m \u001b[0mhomogeneous_func\u001b[0m\u001b[0;34m(\u001b[0m\u001b[0mvalues\u001b[0m\u001b[0;34m)\u001b[0m\u001b[0;34m\u001b[0m\u001b[0;34m\u001b[0m\u001b[0m\n",
            "\u001b[0;31mDataError\u001b[0m: No numeric types to aggregate"
          ]
        }
      ]
    },
    {
      "cell_type": "code",
      "source": [
        "#Optional specify a minimum number of periods\n",
        "dataset['Close'].expanding(min_periods=1).mean().plot(figsize=(16,6))"
      ],
      "metadata": {
        "colab": {
          "base_uri": "https://localhost:8080/",
          "height": 356
        },
        "id": "WghNzKa3i0tE",
        "outputId": "c11f1264-0adb-4ca6-9630-9767c02e1cd6"
      },
      "execution_count": null,
      "outputs": [
        {
          "output_type": "execute_result",
          "data": {
            "text/plain": [
              "<matplotlib.axes._subplots.AxesSubplot at 0x7fea062ce410>"
            ]
          },
          "metadata": {},
          "execution_count": 31
        },
        {
          "output_type": "display_data",
          "data": {
            "text/plain": [
              "<Figure size 1152x432 with 1 Axes>"
            ],
            "image/png": "[encoded data removed]"
          },
          "metadata": {
            "needs_background": "light"
          }
        }
      ]
    },
    {
      "cell_type": "code",
      "source": [
        "training_set=dataset['Open']\n",
        "training_set=pd.DataFrame(training_set)"
      ],
      "metadata": {
        "id": "YNC64H1Gi0k9"
      },
      "execution_count": null,
      "outputs": []
    },
    {
      "cell_type": "code",
      "source": [
        "#Data cleaning\n",
        "dataset.isna().any()"
      ],
      "metadata": {
        "colab": {
          "base_uri": "https://localhost:8080/"
        },
        "id": "ZOiHZCa1mVAl",
        "outputId": "6d5f72c1-6e5c-4cfe-c387-a0718e1c98ca"
      },
      "execution_count": null,
      "outputs": [
        {
          "output_type": "execute_result",
          "data": {
            "text/plain": [
              "Open                  False\n",
              "High                  False\n",
              "Low                   False\n",
              "Close                 False\n",
              "Volume                False\n",
              "Close: 30 Day Mean     True\n",
              "dtype: bool"
            ]
          },
          "metadata": {},
          "execution_count": 33
        }
      ]
    },
    {
      "cell_type": "code",
      "source": [
        "#Featur Scaling\n",
        "from sklearn.preprocessing import MinMaxScaler\n",
        "sc=MinMaxScaler(feature_range=(0,1))\n",
        "training_set_scaled=sc.fit_transform(training_set)"
      ],
      "metadata": {
        "id": "BEjymVOOi0dk"
      },
      "execution_count": null,
      "outputs": []
    },
    {
      "cell_type": "code",
      "source": [
        "#Creating a data structure with 60 timesteps and 1 output\n",
        "x_train=[]\n",
        "y_train=[]\n",
        "for i in range(60,1258):\n",
        "  x_train.append(training_set_scaled[i-60:i,0])\n",
        "  y_train.append(training_set_scaled[i,0])\n",
        "x_train,y_train = np.array(x_train),np.array(y_train)\n",
        "#Reshaping\n",
        "x_train=np.reshape(x_train,(x_train.shape[0],x_train.shape[1],1))"
      ],
      "metadata": {
        "id": "15FnrlIUi0WG"
      },
      "execution_count": null,
      "outputs": []
    },
    {
      "cell_type": "code",
      "source": [
        "#part2- Building the RNN\n",
        "#Importing the libraries\n",
        "from keras.models import Sequential\n",
        "from keras.layers import Dense\n",
        "from keras.layers import LSTM\n",
        "from keras.layers import Dropout"
      ],
      "metadata": {
        "id": "Zq926ua7i0Ou"
      },
      "execution_count": null,
      "outputs": []
    },
    {
      "cell_type": "code",
      "source": [
        "regressor=Sequential()"
      ],
      "metadata": {
        "id": "js8CDgBii0Gh"
      },
      "execution_count": null,
      "outputs": []
    },
    {
      "cell_type": "code",
      "source": [
        "#Adding first LSTM layer and some Dropout regularisation\n",
        "regressor.add(LSTM(units=50,return_sequences=True,input_shape=(x_train.shape[1],1)))\n",
        "regressor.add(Dropout(0.2))\n",
        "#Adding second LSTM layer and some Dropout regularisation\n",
        "regressor.add(LSTM(units=50, return_sequences =True))\n",
        "regressor.add(Dropout(0.2))\n",
        "#Adding a third LSTM Layer and some Dropout regularisation\n",
        "regressor.add(LSTM(units=50, return_sequences= True))\n",
        "regressor.add(Dropout(0.2))\n",
        "#Adding a fourth LSTM Layer and some Dropout regularisation\n",
        "regressor.add(LSTM(units =50))\n",
        "regressor.add(Dropout (0.2))\n",
        "#Adding the output Layer\n",
        "regressor.add(Dense (units = 1))"
      ],
      "metadata": {
        "id": "D9DQyuvRiz-8"
      },
      "execution_count": null,
      "outputs": []
    },
    {
      "cell_type": "code",
      "source": [
        "#Compiling the RNN\n",
        "regressor.compile(optimizer = 'adam', loss ='mean_squared_error')\n",
        "#Fitting the RNN to the Training set\n",
        "regressor.fit(x_train, y_train, epochs=100, batch_size = 32)"
      ],
      "metadata": {
        "colab": {
          "base_uri": "https://localhost:8080/"
        },
        "id": "ljKkaP2Ziz3G",
        "outputId": "0b647a3c-0aea-4edf-9c82-3424ed15ba20"
      },
      "execution_count": null,
      "outputs": [
        {
          "output_type": "stream",
          "name": "stdout",
          "text": [
            "Epoch 1/100\n",
            "38/38 [==============================] - 8s 74ms/step - loss: 0.0310\n",
            "Epoch 2/100\n",
            "38/38 [==============================] - 3s 73ms/step - loss: 0.0064\n",
            "Epoch 3/100\n",
            "38/38 [==============================] - 3s 73ms/step - loss: 0.0058\n",
            "Epoch 4/100\n",
            "38/38 [==============================] - 3s 73ms/step - loss: 0.0048\n",
            "Epoch 5/100\n",
            "38/38 [==============================] - 3s 73ms/step - loss: 0.0051\n",
            "Epoch 6/100\n",
            "38/38 [==============================] - 3s 73ms/step - loss: 0.0047\n",
            "Epoch 7/100\n",
            "38/38 [==============================] - 3s 73ms/step - loss: 0.0048\n",
            "Epoch 8/100\n",
            "38/38 [==============================] - 3s 74ms/step - loss: 0.0049\n",
            "Epoch 9/100\n",
            "38/38 [==============================] - 3s 73ms/step - loss: 0.0044\n",
            "Epoch 10/100\n",
            "38/38 [==============================] - 3s 73ms/step - loss: 0.0040\n",
            "Epoch 11/100\n",
            "38/38 [==============================] - 3s 73ms/step - loss: 0.0041\n",
            "Epoch 12/100\n",
            "38/38 [==============================] - 3s 73ms/step - loss: 0.0050\n",
            "Epoch 13/100\n",
            "38/38 [==============================] - 3s 73ms/step - loss: 0.0043\n",
            "Epoch 14/100\n",
            "38/38 [==============================] - 3s 73ms/step - loss: 0.0036\n",
            "Epoch 15/100\n",
            "38/38 [==============================] - 3s 75ms/step - loss: 0.0040\n",
            "Epoch 16/100\n",
            "38/38 [==============================] - 3s 74ms/step - loss: 0.0037\n",
            "Epoch 17/100\n",
            "38/38 [==============================] - 3s 73ms/step - loss: 0.0045\n",
            "Epoch 18/100\n",
            "38/38 [==============================] - 3s 73ms/step - loss: 0.0037\n",
            "Epoch 19/100\n",
            "38/38 [==============================] - 3s 74ms/step - loss: 0.0035\n",
            "Epoch 20/100\n",
            "38/38 [==============================] - 3s 73ms/step - loss: 0.0033\n",
            "Epoch 21/100\n",
            "38/38 [==============================] - 3s 73ms/step - loss: 0.0038\n",
            "Epoch 22/100\n",
            "38/38 [==============================] - 3s 73ms/step - loss: 0.0030\n",
            "Epoch 23/100\n",
            "38/38 [==============================] - 3s 73ms/step - loss: 0.0035\n",
            "Epoch 24/100\n",
            "38/38 [==============================] - 3s 73ms/step - loss: 0.0032\n",
            "Epoch 25/100\n",
            "38/38 [==============================] - 3s 73ms/step - loss: 0.0029\n",
            "Epoch 26/100\n",
            "38/38 [==============================] - 3s 73ms/step - loss: 0.0029\n",
            "Epoch 27/100\n",
            "38/38 [==============================] - 3s 73ms/step - loss: 0.0039\n",
            "Epoch 28/100\n",
            "38/38 [==============================] - 3s 72ms/step - loss: 0.0036\n",
            "Epoch 29/100\n",
            "38/38 [==============================] - 3s 73ms/step - loss: 0.0030\n",
            "Epoch 30/100\n",
            "38/38 [==============================] - 3s 73ms/step - loss: 0.0035\n",
            "Epoch 31/100\n",
            "38/38 [==============================] - 3s 73ms/step - loss: 0.0033\n",
            "Epoch 32/100\n",
            "38/38 [==============================] - 3s 73ms/step - loss: 0.0027\n",
            "Epoch 33/100\n",
            "38/38 [==============================] - 3s 73ms/step - loss: 0.0025\n",
            "Epoch 34/100\n",
            "38/38 [==============================] - 3s 73ms/step - loss: 0.0026\n",
            "Epoch 35/100\n",
            "38/38 [==============================] - 3s 73ms/step - loss: 0.0027\n",
            "Epoch 36/100\n",
            "38/38 [==============================] - 3s 73ms/step - loss: 0.0027\n",
            "Epoch 37/100\n",
            "38/38 [==============================] - 3s 72ms/step - loss: 0.0028\n",
            "Epoch 38/100\n",
            "38/38 [==============================] - 3s 74ms/step - loss: 0.0025\n",
            "Epoch 39/100\n",
            "38/38 [==============================] - 3s 73ms/step - loss: 0.0025\n",
            "Epoch 40/100\n",
            "38/38 [==============================] - 3s 71ms/step - loss: 0.0026\n",
            "Epoch 41/100\n",
            "38/38 [==============================] - 3s 73ms/step - loss: 0.0026\n",
            "Epoch 42/100\n",
            "38/38 [==============================] - 3s 72ms/step - loss: 0.0025\n",
            "Epoch 43/100\n",
            "38/38 [==============================] - 3s 73ms/step - loss: 0.0028\n",
            "Epoch 44/100\n",
            "38/38 [==============================] - 3s 72ms/step - loss: 0.0024\n",
            "Epoch 45/100\n",
            "38/38 [==============================] - 3s 73ms/step - loss: 0.0023\n",
            "Epoch 46/100\n",
            "38/38 [==============================] - 3s 74ms/step - loss: 0.0023\n",
            "Epoch 47/100\n",
            "38/38 [==============================] - 3s 72ms/step - loss: 0.0025\n",
            "Epoch 48/100\n",
            "38/38 [==============================] - 3s 74ms/step - loss: 0.0023\n",
            "Epoch 49/100\n",
            "38/38 [==============================] - 3s 73ms/step - loss: 0.0025\n",
            "Epoch 50/100\n",
            "38/38 [==============================] - 3s 73ms/step - loss: 0.0023\n",
            "Epoch 51/100\n",
            "38/38 [==============================] - 3s 72ms/step - loss: 0.0021\n",
            "Epoch 52/100\n",
            "38/38 [==============================] - 3s 73ms/step - loss: 0.0022\n",
            "Epoch 53/100\n",
            "38/38 [==============================] - 3s 74ms/step - loss: 0.0024\n",
            "Epoch 54/100\n",
            "38/38 [==============================] - 3s 73ms/step - loss: 0.0029\n",
            "Epoch 55/100\n",
            "38/38 [==============================] - 3s 73ms/step - loss: 0.0024\n",
            "Epoch 56/100\n",
            "38/38 [==============================] - 3s 73ms/step - loss: 0.0023\n",
            "Epoch 57/100\n",
            "38/38 [==============================] - 3s 73ms/step - loss: 0.0020\n",
            "Epoch 58/100\n",
            "38/38 [==============================] - 3s 73ms/step - loss: 0.0022\n",
            "Epoch 59/100\n",
            "38/38 [==============================] - 3s 73ms/step - loss: 0.0023\n",
            "Epoch 60/100\n",
            "38/38 [==============================] - 3s 73ms/step - loss: 0.0018\n",
            "Epoch 61/100\n",
            "38/38 [==============================] - 3s 72ms/step - loss: 0.0020\n",
            "Epoch 62/100\n",
            "38/38 [==============================] - 3s 72ms/step - loss: 0.0019\n",
            "Epoch 63/100\n",
            "38/38 [==============================] - 3s 72ms/step - loss: 0.0022\n",
            "Epoch 64/100\n",
            "38/38 [==============================] - 3s 72ms/step - loss: 0.0018\n",
            "Epoch 65/100\n",
            "38/38 [==============================] - 3s 72ms/step - loss: 0.0021\n",
            "Epoch 66/100\n",
            "38/38 [==============================] - 3s 72ms/step - loss: 0.0019\n",
            "Epoch 67/100\n",
            "38/38 [==============================] - 3s 72ms/step - loss: 0.0020\n",
            "Epoch 68/100\n",
            "38/38 [==============================] - 3s 72ms/step - loss: 0.0018\n",
            "Epoch 69/100\n",
            "38/38 [==============================] - 3s 73ms/step - loss: 0.0021\n",
            "Epoch 70/100\n",
            "38/38 [==============================] - 3s 72ms/step - loss: 0.0017\n",
            "Epoch 71/100\n",
            "38/38 [==============================] - 3s 72ms/step - loss: 0.0016\n",
            "Epoch 72/100\n",
            "38/38 [==============================] - 3s 72ms/step - loss: 0.0019\n",
            "Epoch 73/100\n",
            "38/38 [==============================] - 3s 72ms/step - loss: 0.0019\n",
            "Epoch 74/100\n",
            "38/38 [==============================] - 3s 72ms/step - loss: 0.0017\n",
            "Epoch 75/100\n",
            "38/38 [==============================] - 3s 71ms/step - loss: 0.0020\n",
            "Epoch 76/100\n",
            "38/38 [==============================] - 3s 71ms/step - loss: 0.0017\n",
            "Epoch 77/100\n",
            "38/38 [==============================] - 3s 72ms/step - loss: 0.0017\n",
            "Epoch 78/100\n",
            "38/38 [==============================] - 3s 72ms/step - loss: 0.0020\n",
            "Epoch 79/100\n",
            "38/38 [==============================] - 3s 72ms/step - loss: 0.0015\n",
            "Epoch 80/100\n",
            "38/38 [==============================] - 3s 72ms/step - loss: 0.0018\n",
            "Epoch 81/100\n",
            "38/38 [==============================] - 3s 72ms/step - loss: 0.0017\n",
            "Epoch 82/100\n",
            "38/38 [==============================] - 3s 72ms/step - loss: 0.0017\n",
            "Epoch 83/100\n",
            "38/38 [==============================] - 3s 72ms/step - loss: 0.0018\n",
            "Epoch 84/100\n",
            "38/38 [==============================] - 3s 72ms/step - loss: 0.0016\n",
            "Epoch 85/100\n",
            "38/38 [==============================] - 3s 71ms/step - loss: 0.0015\n",
            "Epoch 86/100\n",
            "38/38 [==============================] - 3s 72ms/step - loss: 0.0016\n",
            "Epoch 87/100\n",
            "38/38 [==============================] - 3s 71ms/step - loss: 0.0015\n",
            "Epoch 88/100\n",
            "38/38 [==============================] - 3s 72ms/step - loss: 0.0016\n",
            "Epoch 89/100\n",
            "38/38 [==============================] - 3s 73ms/step - loss: 0.0014\n",
            "Epoch 90/100\n",
            "38/38 [==============================] - 3s 73ms/step - loss: 0.0013\n",
            "Epoch 91/100\n",
            "38/38 [==============================] - 3s 73ms/step - loss: 0.0015\n",
            "Epoch 92/100\n",
            "38/38 [==============================] - 3s 72ms/step - loss: 0.0015\n",
            "Epoch 93/100\n",
            "38/38 [==============================] - 3s 71ms/step - loss: 0.0016\n",
            "Epoch 94/100\n",
            "38/38 [==============================] - 3s 72ms/step - loss: 0.0014\n",
            "Epoch 95/100\n",
            "38/38 [==============================] - 3s 71ms/step - loss: 0.0014\n",
            "Epoch 96/100\n",
            "38/38 [==============================] - 3s 72ms/step - loss: 0.0014\n",
            "Epoch 97/100\n",
            "38/38 [==============================] - 3s 72ms/step - loss: 0.0013\n",
            "Epoch 98/100\n",
            "38/38 [==============================] - 3s 72ms/step - loss: 0.0015\n",
            "Epoch 99/100\n",
            "38/38 [==============================] - 3s 73ms/step - loss: 0.0014\n",
            "Epoch 100/100\n",
            "38/38 [==============================] - 3s 73ms/step - loss: 0.0016\n"
          ]
        },
        {
          "output_type": "execute_result",
          "data": {
            "text/plain": [
              "<keras.callbacks.History at 0x7fe99bc7bb90>"
            ]
          },
          "metadata": {},
          "execution_count": 39
        }
      ]
    },
    {
      "cell_type": "code",
      "source": [
        "# Part 3 - Making the predictions and visualising the results\n",
        "# Getting the real stock price of 2017\n",
        "dataset_test= pd.read_csv('Google_Stock_Price_Test.csv', index_col=\"Date\", parse_dates=True)"
      ],
      "metadata": {
        "id": "laeYEWRgizvi"
      },
      "execution_count": null,
      "outputs": []
    },
    {
      "cell_type": "code",
      "source": [
        "real_stock_price =dataset_test.iloc[:, 1:2].values\n",
        "dataset_test.head()"
      ],
      "metadata": {
        "colab": {
          "base_uri": "https://localhost:8080/",
          "height": 237
        },
        "id": "Kp5stKlKiznB",
        "outputId": "d21e861b-3691-4906-e230-dcf9242625bf"
      },
      "execution_count": null,
      "outputs": [
        {
          "output_type": "execute_result",
          "data": {
            "text/plain": [
              "              Open    High     Low   Close     Volume\n",
              "Date                                                 \n",
              "2017-01-03  778.81  789.63  775.80  786.14  1657300.0\n",
              "2017-01-04  788.36  791.34  783.16  786.90  1073000.0\n",
              "2017-01-05  786.08  794.48  785.02  794.02  1335200.0\n",
              "2017-01-06  795.26  807.90  792.20  806.15  1640200.0\n",
              "2017-01-09  806.40  809.97  802.83  806.65  1272400.0"
            ],
            "text/html": [
              "\n",
              "  <div id=\"df-d77383f7-c913-4f32-84e4-c2a3f7f13ed6\">\n",
              "    <div class=\"colab-df-container\">\n",
              "      <div>\n",
              "<style scoped>\n",
              "    .dataframe tbody tr th:only-of-type {\n",
              "        vertical-align: middle;\n",
              "    }\n",
              "\n",
              "    .dataframe tbody tr th {\n",
              "        vertical-align: top;\n",
              "    }\n",
              "\n",
              "    .dataframe thead th {\n",
              "        text-align: right;\n",
              "    }\n",
              "</style>\n",
              "<table border=\"1\" class=\"dataframe\">\n",
              "  <thead>\n",
              "    <tr style=\"text-align: right;\">\n",
              "      <th></th>\n",
              "      <th>Open</th>\n",
              "      <th>High</th>\n",
              "      <th>Low</th>\n",
              "      <th>Close</th>\n",
              "      <th>Volume</th>\n",
              "    </tr>\n",
              "    <tr>\n",
              "      <th>Date</th>\n",
              "      <th></th>\n",
              "      <th></th>\n",
              "      <th></th>\n",
              "      <th></th>\n",
              "      <th></th>\n",
              "    </tr>\n",
              "  </thead>\n",
              "  <tbody>\n",
              "    <tr>\n",
              "      <th>2017-01-03</th>\n",
              "      <td>778.81</td>\n",
              "      <td>789.63</td>\n",
              "      <td>775.80</td>\n",
              "      <td>786.14</td>\n",
              "      <td>1657300.0</td>\n",
              "    </tr>\n",
              "    <tr>\n",
              "      <th>2017-01-04</th>\n",
              "      <td>788.36</td>\n",
              "      <td>791.34</td>\n",
              "      <td>783.16</td>\n",
              "      <td>786.90</td>\n",
              "      <td>1073000.0</td>\n",
              "    </tr>\n",
              "    <tr>\n",
              "      <th>2017-01-05</th>\n",
              "      <td>786.08</td>\n",
              "      <td>794.48</td>\n",
              "      <td>785.02</td>\n",
              "      <td>794.02</td>\n",
              "      <td>1335200.0</td>\n",
              "    </tr>\n",
              "    <tr>\n",
              "      <th>2017-01-06</th>\n",
              "      <td>795.26</td>\n",
              "      <td>807.90</td>\n",
              "      <td>792.20</td>\n",
              "      <td>806.15</td>\n",
              "      <td>1640200.0</td>\n",
              "    </tr>\n",
              "    <tr>\n",
              "      <th>2017-01-09</th>\n",
              "      <td>806.40</td>\n",
              "      <td>809.97</td>\n",
              "      <td>802.83</td>\n",
              "      <td>806.65</td>\n",
              "      <td>1272400.0</td>\n",
              "    </tr>\n",
              "  </tbody>\n",
              "</table>\n",
              "</div>\n",
              "      <button class=\"colab-df-convert\" onclick=\"convertToInteractive('df-d77383f7-c913-4f32-84e4-c2a3f7f13ed6')\"\n",
              "              title=\"Convert this dataframe to an interactive table.\"\n",
              "              style=\"display:none;\">\n",
              "        \n",
              "  <svg xmlns=\"http://www.w3.org/2000/svg\" height=\"24px\"viewBox=\"0 0 24 24\"\n",
              "       width=\"24px\">\n",
              "    <path d=\"M0 0h24v24H0V0z\" fill=\"none\"/>\n",
              "    <path d=\"M18.56 5.44l.94 2.06.94-2.06 2.06-.94-2.06-.94-.94-2.06-.94 2.06-2.06.94zm-11 1L8.5 8.5l.94-2.06 2.06-.94-2.06-.94L8.5 2.5l-.94 2.06-2.06.94zm10 10l.94 2.06.94-2.06 2.06-.94-2.06-.94-.94-2.06-.94 2.06-2.06.94z\"/><path d=\"M17.41 7.96l-1.37-1.37c-.4-.4-.92-.59-1.43-.59-.52 0-1.04.2-1.43.59L10.3 9.45l-7.72 7.72c-.78.78-.78 2.05 0 2.83L4 21.41c.39.39.9.59 1.41.59.51 0 1.02-.2 1.41-.59l7.78-7.78 2.81-2.81c.8-.78.8-2.07 0-2.86zM5.41 20L4 18.59l7.72-7.72 1.47 1.35L5.41 20z\"/>\n",
              "  </svg>\n",
              "      </button>\n",
              "      \n",
              "  <style>\n",
              "    .colab-df-container {\n",
              "      display:flex;\n",
              "      flex-wrap:wrap;\n",
              "      gap: 12px;\n",
              "    }\n",
              "\n",
              "    .colab-df-convert {\n",
              "      background-color: #E8F0FE;\n",
              "      border: none;\n",
              "      border-radius: 50%;\n",
              "      cursor: pointer;\n",
              "      display: none;\n",
              "      fill: #1967D2;\n",
              "      height: 32px;\n",
              "      padding: 0 0 0 0;\n",
              "      width: 32px;\n",
              "    }\n",
              "\n",
              "    .colab-df-convert:hover {\n",
              "      background-color: #E2EBFA;\n",
              "      box-shadow: 0px 1px 2px rgba(60, 64, 67, 0.3), 0px 1px 3px 1px rgba(60, 64, 67, 0.15);\n",
              "      fill: #174EA6;\n",
              "    }\n",
              "\n",
              "    [theme=dark] .colab-df-convert {\n",
              "      background-color: #3B4455;\n",
              "      fill: #D2E3FC;\n",
              "    }\n",
              "\n",
              "    [theme=dark] .colab-df-convert:hover {\n",
              "      background-color: #434B5C;\n",
              "      box-shadow: 0px 1px 3px 1px rgba(0, 0, 0, 0.15);\n",
              "      filter: drop-shadow(0px 1px 2px rgba(0, 0, 0, 0.3));\n",
              "      fill: #FFFFFF;\n",
              "    }\n",
              "  </style>\n",
              "\n",
              "      <script>\n",
              "        const buttonEl =\n",
              "          document.querySelector('#df-d77383f7-c913-4f32-84e4-c2a3f7f13ed6 button.colab-df-convert');\n",
              "        buttonEl.style.display =\n",
              "          google.colab.kernel.accessAllowed ? 'block' : 'none';\n",
              "\n",
              "        async function convertToInteractive(key) {\n",
              "          const element = document.querySelector('#df-d77383f7-c913-4f32-84e4-c2a3f7f13ed6');\n",
              "          const dataTable =\n",
              "            await google.colab.kernel.invokeFunction('convertToInteractive',\n",
              "                                                     [key], {});\n",
              "          if (!dataTable) return;\n",
              "\n",
              "          const docLinkHtml = 'Like what you see? Visit the ' +\n",
              "            '<a target=\"_blank\" href=https://colab.research.google.com/notebooks/data_table.ipynb>data table notebook</a>'\n",
              "            + ' to learn more about interactive tables.';\n",
              "          element.innerHTML = '';\n",
              "          dataTable['output_type'] = 'display_data';\n",
              "          await google.colab.output.renderOutput(dataTable, element);\n",
              "          const docLink = document.createElement('div');\n",
              "          docLink.innerHTML = docLinkHtml;\n",
              "          element.appendChild(docLink);\n",
              "        }\n",
              "      </script>\n",
              "    </div>\n",
              "  </div>\n",
              "  "
            ]
          },
          "metadata": {},
          "execution_count": 95
        }
      ]
    },
    {
      "cell_type": "code",
      "source": [
        "dataset_test.info()"
      ],
      "metadata": {
        "colab": {
          "base_uri": "https://localhost:8080/"
        },
        "id": "q_epbyeAize_",
        "outputId": "6bafffb7-5490-413e-ef8a-8d85f55c0dcc"
      },
      "execution_count": null,
      "outputs": [
        {
          "output_type": "stream",
          "name": "stdout",
          "text": [
            "<class 'pandas.core.frame.DataFrame'>\n",
            "DatetimeIndex: 20 entries, 2017-01-03 to 2017-01-31\n",
            "Data columns (total 5 columns):\n",
            " #   Column  Non-Null Count  Dtype  \n",
            "---  ------  --------------  -----  \n",
            " 0   Open    20 non-null     float64\n",
            " 1   High    20 non-null     float64\n",
            " 2   Low     20 non-null     float64\n",
            " 3   Close   20 non-null     float64\n",
            " 4   Volume  20 non-null     object \n",
            "dtypes: float64(4), object(1)\n",
            "memory usage: 960.0+ bytes\n"
          ]
        }
      ]
    },
    {
      "cell_type": "code",
      "source": [
        "dataset_test[\"Volume\"]=dataset_test[\"Volume\"].str.replace(',','').astype(float)"
      ],
      "metadata": {
        "id": "RNOF--S31UXK"
      },
      "execution_count": null,
      "outputs": []
    },
    {
      "cell_type": "code",
      "source": [
        "test_set=dataset_test['Open']\n",
        "test_set=pd.DataFrame(test_set)"
      ],
      "metadata": {
        "id": "PC4r5o8z1UTy"
      },
      "execution_count": null,
      "outputs": []
    },
    {
      "cell_type": "code",
      "source": [
        "test_set.info()"
      ],
      "metadata": {
        "colab": {
          "base_uri": "https://localhost:8080/"
        },
        "id": "GLkICmL61UPk",
        "outputId": "f30c1fe1-af15-431f-fbba-770fed1226cf"
      },
      "execution_count": null,
      "outputs": [
        {
          "output_type": "stream",
          "name": "stdout",
          "text": [
            "<class 'pandas.core.frame.DataFrame'>\n",
            "DatetimeIndex: 20 entries, 2017-01-03 to 2017-01-31\n",
            "Data columns (total 1 columns):\n",
            " #   Column  Non-Null Count  Dtype  \n",
            "---  ------  --------------  -----  \n",
            " 0   Open    20 non-null     float64\n",
            "dtypes: float64(1)\n",
            "memory usage: 320.0 bytes\n"
          ]
        }
      ]
    },
    {
      "cell_type": "code",
      "source": [
        "#Getting the predicted stock price of 2017\n",
        "dataset_total= pd.concat((dataset['Open'], dataset_test['Open']), axis = 0)\n",
        "inputs= dataset_total[len(dataset_total) - len(dataset_test) - 60:].values\n",
        "inputs= inputs.reshape(-1,1)\n",
        "inputs= sc.transform(inputs)\n",
        "x_test= []\n",
        "for i in range(60, 80):\n",
        "  x_test.append(inputs[i-60:i, 0])\n",
        "x_test =np.array(x_test)\n",
        "x_test= np.reshape(x_test, (x_test.shape[0], x_test.shape[1], 1))\n",
        "predicted_stock_price = regressor.predict(x_test)\n",
        "predicted_stock_price = sc.inverse_transform(predicted_stock_price)"
      ],
      "metadata": {
        "colab": {
          "base_uri": "https://localhost:8080/"
        },
        "id": "dex5HLrf1UMJ",
        "outputId": "471741ce-d592-4689-e716-56c56fe4a4a1"
      },
      "execution_count": null,
      "outputs": [
        {
          "output_type": "stream",
          "name": "stderr",
          "text": [
            "/usr/local/lib/python3.7/dist-packages/sklearn/base.py:451: UserWarning: X does not have valid feature names, but MinMaxScaler was fitted with feature names\n",
            "  \"X does not have valid feature names, but\"\n"
          ]
        },
        {
          "output_type": "stream",
          "name": "stdout",
          "text": [
            "1/1 [==============================] - 1s 1s/step\n"
          ]
        }
      ]
    },
    {
      "cell_type": "code",
      "source": [
        "predicted_stock_price = pd.DataFrame(predicted_stock_price)\n",
        "predicted_stock_price.info()"
      ],
      "metadata": {
        "colab": {
          "base_uri": "https://localhost:8080/"
        },
        "id": "HdskcFqB2Xiy",
        "outputId": "9b0e7ef8-dc9c-4fad-d8e2-066e12fabe27"
      },
      "execution_count": null,
      "outputs": [
        {
          "output_type": "stream",
          "name": "stdout",
          "text": [
            "<class 'pandas.core.frame.DataFrame'>\n",
            "RangeIndex: 20 entries, 0 to 19\n",
            "Data columns (total 1 columns):\n",
            " #   Column  Non-Null Count  Dtype  \n",
            "---  ------  --------------  -----  \n",
            " 0   0       20 non-null     float32\n",
            "dtypes: float32(1)\n",
            "memory usage: 208.0 bytes\n"
          ]
        }
      ]
    },
    {
      "cell_type": "code",
      "source": [
        "#Visulising the results\n",
        "plt.plot(real_stock_price,color='red',label='Real Google Stock Price')\n",
        "plt.plot(predicted_stock_price,color='blue',label='Predicted Google Stock Price')\n",
        "plt.title('Google Stock Price Prediction')\n",
        "plt.xlabel('Time')\n",
        "plt.ylabel('Google Stock Price')\n",
        "plt.legend()\n",
        "plt.show()"
      ],
      "metadata": {
        "colab": {
          "base_uri": "https://localhost:8080/",
          "height": 295
        },
        "id": "ieErimzD2YxV",
        "outputId": "c8e4e5fe-0155-40dd-d3ae-3b170ee86865"
      },
      "execution_count": null,
      "outputs": [
        {
          "output_type": "display_data",
          "data": {
            "text/plain": [
              "<Figure size 432x288 with 1 Axes>"
            ],
            "image/png": "[encoded data removed]"
          },
          "metadata": {
            "needs_background": "light"
          }
        }
      ]
    },
    {
      "cell_type": "code",
      "source": [
        "# nsamples, nx, ny = x_train.shape\n",
        "# d2_train_dataset = x_train.reshape((nsamples,nx*ny))\n",
        "nsamples, nx, ny = x_train.shape\n",
        "d2_train_dataset = x_train.reshape((nsamples,nx*ny))"
      ],
      "metadata": {
        "id": "GkXv_9UmvEbj"
      },
      "execution_count": null,
      "outputs": []
    },
    {
      "cell_type": "code",
      "source": [
        "from sklearn.metrics import accuracy_score\n",
        "from sklearn.linear_model import LogisticRegression\n",
        "classifier= LogisticRegression(random_state=0)\n"
      ],
      "metadata": {
        "id": "euCkYXNysGeu"
      },
      "execution_count": null,
      "outputs": []
    },
    {
      "cell_type": "code",
      "source": [
        "classifier.fit(x_train,y_train)"
      ],
      "metadata": {
        "colab": {
          "base_uri": "https://localhost:8080/",
          "height": 346
        },
        "id": "7jH1Gdhav4LK",
        "outputId": "87625c83-7d22-4972-cb6f-6249679849a1"
      },
      "execution_count": null,
      "outputs": [
        {
          "output_type": "error",
          "ename": "ValueError",
          "evalue": "ignored",
          "traceback": [
            "\u001b[0;31m---------------------------------------------------------------------------\u001b[0m",
            "\u001b[0;31mValueError\u001b[0m                                Traceback (most recent call last)",
            "\u001b[0;32m<ipython-input-82-b827a6aea6de>\u001b[0m in \u001b[0;36m<module>\u001b[0;34m\u001b[0m\n\u001b[0;32m----> 1\u001b[0;31m \u001b[0mclassifier\u001b[0m\u001b[0;34m.\u001b[0m\u001b[0mfit\u001b[0m\u001b[0;34m(\u001b[0m\u001b[0mx_train\u001b[0m\u001b[0;34m,\u001b[0m\u001b[0my_train\u001b[0m\u001b[0;34m)\u001b[0m\u001b[0;34m\u001b[0m\u001b[0;34m\u001b[0m\u001b[0m\n\u001b[0m",
            "\u001b[0;32m/usr/local/lib/python3.7/dist-packages/sklearn/linear_model/_logistic.py\u001b[0m in \u001b[0;36mfit\u001b[0;34m(self, X, y, sample_weight)\u001b[0m\n\u001b[1;32m   1512\u001b[0m             \u001b[0mdtype\u001b[0m\u001b[0;34m=\u001b[0m\u001b[0m_dtype\u001b[0m\u001b[0;34m,\u001b[0m\u001b[0;34m\u001b[0m\u001b[0;34m\u001b[0m\u001b[0m\n\u001b[1;32m   1513\u001b[0m             \u001b[0morder\u001b[0m\u001b[0;34m=\u001b[0m\u001b[0;34m\"C\"\u001b[0m\u001b[0;34m,\u001b[0m\u001b[0;34m\u001b[0m\u001b[0;34m\u001b[0m\u001b[0m\n\u001b[0;32m-> 1514\u001b[0;31m             \u001b[0maccept_large_sparse\u001b[0m\u001b[0;34m=\u001b[0m\u001b[0msolver\u001b[0m \u001b[0;32mnot\u001b[0m \u001b[0;32min\u001b[0m \u001b[0;34m[\u001b[0m\u001b[0;34m\"liblinear\"\u001b[0m\u001b[0;34m,\u001b[0m \u001b[0;34m\"sag\"\u001b[0m\u001b[0;34m,\u001b[0m \u001b[0;34m\"saga\"\u001b[0m\u001b[0;34m]\u001b[0m\u001b[0;34m,\u001b[0m\u001b[0;34m\u001b[0m\u001b[0;34m\u001b[0m\u001b[0m\n\u001b[0m\u001b[1;32m   1515\u001b[0m         )\n\u001b[1;32m   1516\u001b[0m         \u001b[0mcheck_classification_targets\u001b[0m\u001b[0;34m(\u001b[0m\u001b[0my\u001b[0m\u001b[0;34m)\u001b[0m\u001b[0;34m\u001b[0m\u001b[0;34m\u001b[0m\u001b[0m\n",
            "\u001b[0;32m/usr/local/lib/python3.7/dist-packages/sklearn/base.py\u001b[0m in \u001b[0;36m_validate_data\u001b[0;34m(self, X, y, reset, validate_separately, **check_params)\u001b[0m\n\u001b[1;32m    579\u001b[0m                 \u001b[0my\u001b[0m \u001b[0;34m=\u001b[0m \u001b[0mcheck_array\u001b[0m\u001b[0;34m(\u001b[0m\u001b[0my\u001b[0m\u001b[0;34m,\u001b[0m \u001b[0;34m**\u001b[0m\u001b[0mcheck_y_params\u001b[0m\u001b[0;34m)\u001b[0m\u001b[0;34m\u001b[0m\u001b[0;34m\u001b[0m\u001b[0m\n\u001b[1;32m    580\u001b[0m             \u001b[0;32melse\u001b[0m\u001b[0;34m:\u001b[0m\u001b[0;34m\u001b[0m\u001b[0;34m\u001b[0m\u001b[0m\n\u001b[0;32m--> 581\u001b[0;31m                 \u001b[0mX\u001b[0m\u001b[0;34m,\u001b[0m \u001b[0my\u001b[0m \u001b[0;34m=\u001b[0m \u001b[0mcheck_X_y\u001b[0m\u001b[0;34m(\u001b[0m\u001b[0mX\u001b[0m\u001b[0;34m,\u001b[0m \u001b[0my\u001b[0m\u001b[0;34m,\u001b[0m \u001b[0;34m**\u001b[0m\u001b[0mcheck_params\u001b[0m\u001b[0;34m)\u001b[0m\u001b[0;34m\u001b[0m\u001b[0;34m\u001b[0m\u001b[0m\n\u001b[0m\u001b[1;32m    582\u001b[0m             \u001b[0mout\u001b[0m \u001b[0;34m=\u001b[0m \u001b[0mX\u001b[0m\u001b[0;34m,\u001b[0m \u001b[0my\u001b[0m\u001b[0;34m\u001b[0m\u001b[0;34m\u001b[0m\u001b[0m\n\u001b[1;32m    583\u001b[0m \u001b[0;34m\u001b[0m\u001b[0m\n",
            "\u001b[0;32m/usr/local/lib/python3.7/dist-packages/sklearn/utils/validation.py\u001b[0m in \u001b[0;36mcheck_X_y\u001b[0;34m(X, y, accept_sparse, accept_large_sparse, dtype, order, copy, force_all_finite, ensure_2d, allow_nd, multi_output, ensure_min_samples, ensure_min_features, y_numeric, estimator)\u001b[0m\n\u001b[1;32m    974\u001b[0m         \u001b[0mensure_min_samples\u001b[0m\u001b[0;34m=\u001b[0m\u001b[0mensure_min_samples\u001b[0m\u001b[0;34m,\u001b[0m\u001b[0;34m\u001b[0m\u001b[0;34m\u001b[0m\u001b[0m\n\u001b[1;32m    975\u001b[0m         \u001b[0mensure_min_features\u001b[0m\u001b[0;34m=\u001b[0m\u001b[0mensure_min_features\u001b[0m\u001b[0;34m,\u001b[0m\u001b[0;34m\u001b[0m\u001b[0;34m\u001b[0m\u001b[0m\n\u001b[0;32m--> 976\u001b[0;31m         \u001b[0mestimator\u001b[0m\u001b[0;34m=\u001b[0m\u001b[0mestimator\u001b[0m\u001b[0;34m,\u001b[0m\u001b[0;34m\u001b[0m\u001b[0;34m\u001b[0m\u001b[0m\n\u001b[0m\u001b[1;32m    977\u001b[0m     )\n\u001b[1;32m    978\u001b[0m \u001b[0;34m\u001b[0m\u001b[0m\n",
            "\u001b[0;32m/usr/local/lib/python3.7/dist-packages/sklearn/utils/validation.py\u001b[0m in \u001b[0;36mcheck_array\u001b[0;34m(array, accept_sparse, accept_large_sparse, dtype, order, copy, force_all_finite, ensure_2d, allow_nd, ensure_min_samples, ensure_min_features, estimator)\u001b[0m\n\u001b[1;32m    794\u001b[0m             raise ValueError(\n\u001b[1;32m    795\u001b[0m                 \u001b[0;34m\"Found array with dim %d. %s expected <= 2.\"\u001b[0m\u001b[0;34m\u001b[0m\u001b[0;34m\u001b[0m\u001b[0m\n\u001b[0;32m--> 796\u001b[0;31m                 \u001b[0;34m%\u001b[0m \u001b[0;34m(\u001b[0m\u001b[0marray\u001b[0m\u001b[0;34m.\u001b[0m\u001b[0mndim\u001b[0m\u001b[0;34m,\u001b[0m \u001b[0mestimator_name\u001b[0m\u001b[0;34m)\u001b[0m\u001b[0;34m\u001b[0m\u001b[0;34m\u001b[0m\u001b[0m\n\u001b[0m\u001b[1;32m    797\u001b[0m             )\n\u001b[1;32m    798\u001b[0m \u001b[0;34m\u001b[0m\u001b[0m\n",
            "\u001b[0;31mValueError\u001b[0m: Found array with dim 3. Estimator expected <= 2."
          ]
        }
      ]
    },
    {
      "cell_type": "code",
      "source": [
        "y_pred=classifier.predict(x_test)"
      ],
      "metadata": {
        "colab": {
          "base_uri": "https://localhost:8080/",
          "height": 346
        },
        "id": "p33JUY1ntw2i",
        "outputId": "0b3a10ed-84fa-4cbe-f060-98acc5114b69"
      },
      "execution_count": null,
      "outputs": [
        {
          "output_type": "error",
          "ename": "NotFittedError",
          "evalue": "ignored",
          "traceback": [
            "\u001b[0;31m---------------------------------------------------------------------------\u001b[0m",
            "\u001b[0;31mNotFittedError\u001b[0m                            Traceback (most recent call last)",
            "\u001b[0;32m<ipython-input-78-1d8cb188629d>\u001b[0m in \u001b[0;36m<module>\u001b[0;34m\u001b[0m\n\u001b[0;32m----> 1\u001b[0;31m \u001b[0my_pred\u001b[0m\u001b[0;34m=\u001b[0m\u001b[0mclassifier\u001b[0m\u001b[0;34m.\u001b[0m\u001b[0mpredict\u001b[0m\u001b[0;34m(\u001b[0m\u001b[0mx_test\u001b[0m\u001b[0;34m)\u001b[0m\u001b[0;34m\u001b[0m\u001b[0;34m\u001b[0m\u001b[0m\n\u001b[0m",
            "\u001b[0;32m/usr/local/lib/python3.7/dist-packages/sklearn/linear_model/_base.py\u001b[0m in \u001b[0;36mpredict\u001b[0;34m(self, X)\u001b[0m\n\u001b[1;32m    423\u001b[0m             \u001b[0mVector\u001b[0m \u001b[0mcontaining\u001b[0m \u001b[0mthe\u001b[0m \u001b[0;32mclass\u001b[0m \u001b[0mlabels\u001b[0m \u001b[0;32mfor\u001b[0m \u001b[0meach\u001b[0m \u001b[0msample\u001b[0m\u001b[0;34m.\u001b[0m\u001b[0;34m\u001b[0m\u001b[0;34m\u001b[0m\u001b[0m\n\u001b[1;32m    424\u001b[0m         \"\"\"\n\u001b[0;32m--> 425\u001b[0;31m         \u001b[0mscores\u001b[0m \u001b[0;34m=\u001b[0m \u001b[0mself\u001b[0m\u001b[0;34m.\u001b[0m\u001b[0mdecision_function\u001b[0m\u001b[0;34m(\u001b[0m\u001b[0mX\u001b[0m\u001b[0;34m)\u001b[0m\u001b[0;34m\u001b[0m\u001b[0;34m\u001b[0m\u001b[0m\n\u001b[0m\u001b[1;32m    426\u001b[0m         \u001b[0;32mif\u001b[0m \u001b[0mlen\u001b[0m\u001b[0;34m(\u001b[0m\u001b[0mscores\u001b[0m\u001b[0;34m.\u001b[0m\u001b[0mshape\u001b[0m\u001b[0;34m)\u001b[0m \u001b[0;34m==\u001b[0m \u001b[0;36m1\u001b[0m\u001b[0;34m:\u001b[0m\u001b[0;34m\u001b[0m\u001b[0;34m\u001b[0m\u001b[0m\n\u001b[1;32m    427\u001b[0m             \u001b[0mindices\u001b[0m \u001b[0;34m=\u001b[0m \u001b[0;34m(\u001b[0m\u001b[0mscores\u001b[0m \u001b[0;34m>\u001b[0m \u001b[0;36m0\u001b[0m\u001b[0;34m)\u001b[0m\u001b[0;34m.\u001b[0m\u001b[0mastype\u001b[0m\u001b[0;34m(\u001b[0m\u001b[0mint\u001b[0m\u001b[0;34m)\u001b[0m\u001b[0;34m\u001b[0m\u001b[0;34m\u001b[0m\u001b[0m\n",
            "\u001b[0;32m/usr/local/lib/python3.7/dist-packages/sklearn/linear_model/_base.py\u001b[0m in \u001b[0;36mdecision_function\u001b[0;34m(self, X)\u001b[0m\n\u001b[1;32m    403\u001b[0m             \u001b[0mthis\u001b[0m \u001b[0;32mclass\u001b[0m \u001b[0mwould\u001b[0m \u001b[0mbe\u001b[0m \u001b[0mpredicted\u001b[0m\u001b[0;34m.\u001b[0m\u001b[0;34m\u001b[0m\u001b[0;34m\u001b[0m\u001b[0m\n\u001b[1;32m    404\u001b[0m         \"\"\"\n\u001b[0;32m--> 405\u001b[0;31m         \u001b[0mcheck_is_fitted\u001b[0m\u001b[0;34m(\u001b[0m\u001b[0mself\u001b[0m\u001b[0;34m)\u001b[0m\u001b[0;34m\u001b[0m\u001b[0;34m\u001b[0m\u001b[0m\n\u001b[0m\u001b[1;32m    406\u001b[0m \u001b[0;34m\u001b[0m\u001b[0m\n\u001b[1;32m    407\u001b[0m         \u001b[0mX\u001b[0m \u001b[0;34m=\u001b[0m \u001b[0mself\u001b[0m\u001b[0;34m.\u001b[0m\u001b[0m_validate_data\u001b[0m\u001b[0;34m(\u001b[0m\u001b[0mX\u001b[0m\u001b[0;34m,\u001b[0m \u001b[0maccept_sparse\u001b[0m\u001b[0;34m=\u001b[0m\u001b[0;34m\"csr\"\u001b[0m\u001b[0;34m,\u001b[0m \u001b[0mreset\u001b[0m\u001b[0;34m=\u001b[0m\u001b[0;32mFalse\u001b[0m\u001b[0;34m)\u001b[0m\u001b[0;34m\u001b[0m\u001b[0;34m\u001b[0m\u001b[0m\n",
            "\u001b[0;32m/usr/local/lib/python3.7/dist-packages/sklearn/utils/validation.py\u001b[0m in \u001b[0;36mcheck_is_fitted\u001b[0;34m(estimator, attributes, msg, all_or_any)\u001b[0m\n\u001b[1;32m   1220\u001b[0m \u001b[0;34m\u001b[0m\u001b[0m\n\u001b[1;32m   1221\u001b[0m     \u001b[0;32mif\u001b[0m \u001b[0;32mnot\u001b[0m \u001b[0mfitted\u001b[0m\u001b[0;34m:\u001b[0m\u001b[0;34m\u001b[0m\u001b[0;34m\u001b[0m\u001b[0m\n\u001b[0;32m-> 1222\u001b[0;31m         \u001b[0;32mraise\u001b[0m \u001b[0mNotFittedError\u001b[0m\u001b[0;34m(\u001b[0m\u001b[0mmsg\u001b[0m \u001b[0;34m%\u001b[0m \u001b[0;34m{\u001b[0m\u001b[0;34m\"name\"\u001b[0m\u001b[0;34m:\u001b[0m \u001b[0mtype\u001b[0m\u001b[0;34m(\u001b[0m\u001b[0mestimator\u001b[0m\u001b[0;34m)\u001b[0m\u001b[0;34m.\u001b[0m\u001b[0m__name__\u001b[0m\u001b[0;34m}\u001b[0m\u001b[0;34m)\u001b[0m\u001b[0;34m\u001b[0m\u001b[0;34m\u001b[0m\u001b[0m\n\u001b[0m\u001b[1;32m   1223\u001b[0m \u001b[0;34m\u001b[0m\u001b[0m\n\u001b[1;32m   1224\u001b[0m \u001b[0;34m\u001b[0m\u001b[0m\n",
            "\u001b[0;31mNotFittedError\u001b[0m: This LogisticRegression instance is not fitted yet. Call 'fit' with appropriate arguments before using this estimator."
          ]
        }
      ]
    },
    {
      "cell_type": "code",
      "source": [],
      "metadata": {
        "id": "ygwYw1NCtwuL"
      },
      "execution_count": null,
      "outputs": []
    }
  ]
}